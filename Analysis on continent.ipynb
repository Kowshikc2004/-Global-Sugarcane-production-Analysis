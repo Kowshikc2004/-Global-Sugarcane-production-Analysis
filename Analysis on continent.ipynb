{
 "cells": [
  {
   "cell_type": "code",
   "execution_count": 1,
   "id": "5a9e806c-48fe-4b64-9191-bd4309fb1a9d",
   "metadata": {},
   "outputs": [],
   "source": [
    "import pandas as pd\n",
    "import numpy as np\n",
    "import seaborn as sns\n",
    "from matplotlib import pyplot as plt"
   ]
  },
  {
   "cell_type": "code",
   "execution_count": 2,
   "id": "31fb4b64-ac83-445a-87fb-70883137841e",
   "metadata": {},
   "outputs": [],
   "source": [
    "df=pd.read_csv('List of Countries by Sugarcane Production.csv')"
   ]
  },
  {
   "cell_type": "code",
   "execution_count": 3,
   "id": "e2d9df55-30b4-44c4-8363-d3c8744b20d9",
   "metadata": {},
   "outputs": [
    {
     "data": {
      "text/html": [
       "<div>\n",
       "<style scoped>\n",
       "    .dataframe tbody tr th:only-of-type {\n",
       "        vertical-align: middle;\n",
       "    }\n",
       "\n",
       "    .dataframe tbody tr th {\n",
       "        vertical-align: top;\n",
       "    }\n",
       "\n",
       "    .dataframe thead th {\n",
       "        text-align: right;\n",
       "    }\n",
       "</style>\n",
       "<table border=\"1\" class=\"dataframe\">\n",
       "  <thead>\n",
       "    <tr style=\"text-align: right;\">\n",
       "      <th></th>\n",
       "      <th>Unnamed: 0</th>\n",
       "      <th>Country</th>\n",
       "      <th>Continent</th>\n",
       "      <th>Production (Tons)</th>\n",
       "      <th>Production per Person (Kg)</th>\n",
       "      <th>Acreage (Hectare)</th>\n",
       "      <th>Yield (Kg / Hectare)</th>\n",
       "    </tr>\n",
       "  </thead>\n",
       "  <tbody>\n",
       "    <tr>\n",
       "      <th>0</th>\n",
       "      <td>0</td>\n",
       "      <td>Brazil</td>\n",
       "      <td>South America</td>\n",
       "      <td>768.678.382</td>\n",
       "      <td>3.668,531</td>\n",
       "      <td>10.226.205</td>\n",
       "      <td>75.167,5</td>\n",
       "    </tr>\n",
       "    <tr>\n",
       "      <th>1</th>\n",
       "      <td>1</td>\n",
       "      <td>India</td>\n",
       "      <td>Asia</td>\n",
       "      <td>348.448.000</td>\n",
       "      <td>260721</td>\n",
       "      <td>4.950.000</td>\n",
       "      <td>70.393,5</td>\n",
       "    </tr>\n",
       "    <tr>\n",
       "      <th>2</th>\n",
       "      <td>2</td>\n",
       "      <td>China</td>\n",
       "      <td>Asia</td>\n",
       "      <td>123.059.739</td>\n",
       "      <td>88287</td>\n",
       "      <td>1.675.215</td>\n",
       "      <td>73.459,1</td>\n",
       "    </tr>\n",
       "    <tr>\n",
       "      <th>3</th>\n",
       "      <td>3</td>\n",
       "      <td>Thailand</td>\n",
       "      <td>Asia</td>\n",
       "      <td>87.468.496</td>\n",
       "      <td>1.264,303</td>\n",
       "      <td>1.336.575</td>\n",
       "      <td>65.442,2</td>\n",
       "    </tr>\n",
       "    <tr>\n",
       "      <th>4</th>\n",
       "      <td>4</td>\n",
       "      <td>Pakistan</td>\n",
       "      <td>Asia</td>\n",
       "      <td>65.450.704</td>\n",
       "      <td>324219</td>\n",
       "      <td>1.130.820</td>\n",
       "      <td>57.879</td>\n",
       "    </tr>\n",
       "  </tbody>\n",
       "</table>\n",
       "</div>"
      ],
      "text/plain": [
       "   Unnamed: 0   Country      Continent Production (Tons)  \\\n",
       "0           0    Brazil  South America       768.678.382   \n",
       "1           1     India           Asia       348.448.000   \n",
       "2           2     China           Asia       123.059.739   \n",
       "3           3  Thailand           Asia        87.468.496   \n",
       "4           4  Pakistan           Asia        65.450.704   \n",
       "\n",
       "  Production per Person (Kg) Acreage (Hectare) Yield (Kg / Hectare)  \n",
       "0                  3.668,531        10.226.205             75.167,5  \n",
       "1                     260721         4.950.000             70.393,5  \n",
       "2                      88287         1.675.215             73.459,1  \n",
       "3                  1.264,303         1.336.575             65.442,2  \n",
       "4                     324219         1.130.820               57.879  "
      ]
     },
     "execution_count": 3,
     "metadata": {},
     "output_type": "execute_result"
    }
   ],
   "source": [
    "df.head()"
   ]
  },
  {
   "cell_type": "code",
   "execution_count": 4,
   "id": "899d714f-84a6-42dc-9000-f87f9f18144c",
   "metadata": {},
   "outputs": [
    {
     "data": {
      "text/plain": [
       "(103, 7)"
      ]
     },
     "execution_count": 4,
     "metadata": {},
     "output_type": "execute_result"
    }
   ],
   "source": [
    "df.shape"
   ]
  },
  {
   "cell_type": "code",
   "execution_count": 5,
   "id": "5a589561-c2bc-4f9f-a9a2-76d488302db0",
   "metadata": {},
   "outputs": [],
   "source": [
    "df['Production (Tons)']=df['Production (Tons)'].str.replace(\".\",\"\")"
   ]
  },
  {
   "cell_type": "code",
   "execution_count": 6,
   "id": "48c6d484-a373-4c38-a7c1-bae3ce6b7faa",
   "metadata": {},
   "outputs": [],
   "source": [
    "df['Production per Person (Kg)']=df['Production per Person (Kg)'].str.replace('.',\"\").str.replace(',','.')\n",
    "df['Acreage (Hectare)']=df['Acreage (Hectare)'].str.replace('.',\"\")\n",
    "df['Yield (Kg / Hectare)']=df['Yield (Kg / Hectare)'].str.replace('.',\"\").str.replace(',','.')\n"
   ]
  },
  {
   "cell_type": "code",
   "execution_count": 7,
   "id": "7412fed6-9bad-47e5-8a36-e054a80ef64a",
   "metadata": {},
   "outputs": [
    {
     "data": {
      "text/html": [
       "<div>\n",
       "<style scoped>\n",
       "    .dataframe tbody tr th:only-of-type {\n",
       "        vertical-align: middle;\n",
       "    }\n",
       "\n",
       "    .dataframe tbody tr th {\n",
       "        vertical-align: top;\n",
       "    }\n",
       "\n",
       "    .dataframe thead th {\n",
       "        text-align: right;\n",
       "    }\n",
       "</style>\n",
       "<table border=\"1\" class=\"dataframe\">\n",
       "  <thead>\n",
       "    <tr style=\"text-align: right;\">\n",
       "      <th></th>\n",
       "      <th>Unnamed: 0</th>\n",
       "      <th>Country</th>\n",
       "      <th>Continent</th>\n",
       "      <th>Production (Tons)</th>\n",
       "      <th>Production per Person (Kg)</th>\n",
       "      <th>Acreage (Hectare)</th>\n",
       "      <th>Yield (Kg / Hectare)</th>\n",
       "    </tr>\n",
       "  </thead>\n",
       "  <tbody>\n",
       "    <tr>\n",
       "      <th>0</th>\n",
       "      <td>0</td>\n",
       "      <td>Brazil</td>\n",
       "      <td>South America</td>\n",
       "      <td>768678382</td>\n",
       "      <td>3668.531</td>\n",
       "      <td>10226205</td>\n",
       "      <td>75167.5</td>\n",
       "    </tr>\n",
       "    <tr>\n",
       "      <th>1</th>\n",
       "      <td>1</td>\n",
       "      <td>India</td>\n",
       "      <td>Asia</td>\n",
       "      <td>348448000</td>\n",
       "      <td>260721</td>\n",
       "      <td>4950000</td>\n",
       "      <td>70393.5</td>\n",
       "    </tr>\n",
       "    <tr>\n",
       "      <th>2</th>\n",
       "      <td>2</td>\n",
       "      <td>China</td>\n",
       "      <td>Asia</td>\n",
       "      <td>123059739</td>\n",
       "      <td>88287</td>\n",
       "      <td>1675215</td>\n",
       "      <td>73459.1</td>\n",
       "    </tr>\n",
       "    <tr>\n",
       "      <th>3</th>\n",
       "      <td>3</td>\n",
       "      <td>Thailand</td>\n",
       "      <td>Asia</td>\n",
       "      <td>87468496</td>\n",
       "      <td>1264.303</td>\n",
       "      <td>1336575</td>\n",
       "      <td>65442.2</td>\n",
       "    </tr>\n",
       "    <tr>\n",
       "      <th>4</th>\n",
       "      <td>4</td>\n",
       "      <td>Pakistan</td>\n",
       "      <td>Asia</td>\n",
       "      <td>65450704</td>\n",
       "      <td>324219</td>\n",
       "      <td>1130820</td>\n",
       "      <td>57879</td>\n",
       "    </tr>\n",
       "  </tbody>\n",
       "</table>\n",
       "</div>"
      ],
      "text/plain": [
       "   Unnamed: 0   Country      Continent Production (Tons)  \\\n",
       "0           0    Brazil  South America         768678382   \n",
       "1           1     India           Asia         348448000   \n",
       "2           2     China           Asia         123059739   \n",
       "3           3  Thailand           Asia          87468496   \n",
       "4           4  Pakistan           Asia          65450704   \n",
       "\n",
       "  Production per Person (Kg) Acreage (Hectare) Yield (Kg / Hectare)  \n",
       "0                   3668.531          10226205              75167.5  \n",
       "1                     260721           4950000              70393.5  \n",
       "2                      88287           1675215              73459.1  \n",
       "3                   1264.303           1336575              65442.2  \n",
       "4                     324219           1130820                57879  "
      ]
     },
     "execution_count": 7,
     "metadata": {},
     "output_type": "execute_result"
    }
   ],
   "source": [
    "df.head()"
   ]
  },
  {
   "cell_type": "code",
   "execution_count": 8,
   "id": "bf1528d8-9421-4ba0-88b5-fa1c77121ddc",
   "metadata": {},
   "outputs": [
    {
     "data": {
      "text/html": [
       "<div>\n",
       "<style scoped>\n",
       "    .dataframe tbody tr th:only-of-type {\n",
       "        vertical-align: middle;\n",
       "    }\n",
       "\n",
       "    .dataframe tbody tr th {\n",
       "        vertical-align: top;\n",
       "    }\n",
       "\n",
       "    .dataframe thead th {\n",
       "        text-align: right;\n",
       "    }\n",
       "</style>\n",
       "<table border=\"1\" class=\"dataframe\">\n",
       "  <thead>\n",
       "    <tr style=\"text-align: right;\">\n",
       "      <th></th>\n",
       "      <th>Unnamed: 0</th>\n",
       "      <th>Country</th>\n",
       "      <th>Continent</th>\n",
       "      <th>Production (Tons)</th>\n",
       "      <th>Production per Person (Kg)</th>\n",
       "      <th>Acreage (Hectare)</th>\n",
       "      <th>Yield (Kg / Hectare)</th>\n",
       "    </tr>\n",
       "  </thead>\n",
       "  <tbody>\n",
       "    <tr>\n",
       "      <th>99</th>\n",
       "      <td>99</td>\n",
       "      <td>Djibouti</td>\n",
       "      <td>Africa</td>\n",
       "      <td>53</td>\n",
       "      <td>51</td>\n",
       "      <td>NaN</td>\n",
       "      <td>NaN</td>\n",
       "    </tr>\n",
       "  </tbody>\n",
       "</table>\n",
       "</div>"
      ],
      "text/plain": [
       "    Unnamed: 0   Country Continent Production (Tons)  \\\n",
       "99          99  Djibouti    Africa                53   \n",
       "\n",
       "   Production per Person (Kg) Acreage (Hectare) Yield (Kg / Hectare)  \n",
       "99                         51               NaN                  NaN  "
      ]
     },
     "execution_count": 8,
     "metadata": {},
     "output_type": "execute_result"
    }
   ],
   "source": [
    "df[df['Acreage (Hectare)'].isna()]"
   ]
  },
  {
   "cell_type": "code",
   "execution_count": 9,
   "id": "e81f004d-2421-4a4c-ba66-0c09df2f736c",
   "metadata": {},
   "outputs": [
    {
     "data": {
      "text/html": [
       "<div>\n",
       "<style scoped>\n",
       "    .dataframe tbody tr th:only-of-type {\n",
       "        vertical-align: middle;\n",
       "    }\n",
       "\n",
       "    .dataframe tbody tr th {\n",
       "        vertical-align: top;\n",
       "    }\n",
       "\n",
       "    .dataframe thead th {\n",
       "        text-align: right;\n",
       "    }\n",
       "</style>\n",
       "<table border=\"1\" class=\"dataframe\">\n",
       "  <thead>\n",
       "    <tr style=\"text-align: right;\">\n",
       "      <th></th>\n",
       "      <th>index</th>\n",
       "      <th>Unnamed: 0</th>\n",
       "      <th>Country</th>\n",
       "      <th>Continent</th>\n",
       "      <th>Production (Tons)</th>\n",
       "      <th>Production per Person (Kg)</th>\n",
       "      <th>Acreage (Hectare)</th>\n",
       "      <th>Yield (Kg / Hectare)</th>\n",
       "    </tr>\n",
       "  </thead>\n",
       "  <tbody>\n",
       "    <tr>\n",
       "      <th>0</th>\n",
       "      <td>0</td>\n",
       "      <td>0</td>\n",
       "      <td>Brazil</td>\n",
       "      <td>South America</td>\n",
       "      <td>768678382</td>\n",
       "      <td>3668.531</td>\n",
       "      <td>10226205</td>\n",
       "      <td>75167.5</td>\n",
       "    </tr>\n",
       "    <tr>\n",
       "      <th>1</th>\n",
       "      <td>1</td>\n",
       "      <td>1</td>\n",
       "      <td>India</td>\n",
       "      <td>Asia</td>\n",
       "      <td>348448000</td>\n",
       "      <td>260721</td>\n",
       "      <td>4950000</td>\n",
       "      <td>70393.5</td>\n",
       "    </tr>\n",
       "    <tr>\n",
       "      <th>2</th>\n",
       "      <td>2</td>\n",
       "      <td>2</td>\n",
       "      <td>China</td>\n",
       "      <td>Asia</td>\n",
       "      <td>123059739</td>\n",
       "      <td>88287</td>\n",
       "      <td>1675215</td>\n",
       "      <td>73459.1</td>\n",
       "    </tr>\n",
       "    <tr>\n",
       "      <th>3</th>\n",
       "      <td>3</td>\n",
       "      <td>3</td>\n",
       "      <td>Thailand</td>\n",
       "      <td>Asia</td>\n",
       "      <td>87468496</td>\n",
       "      <td>1264.303</td>\n",
       "      <td>1336575</td>\n",
       "      <td>65442.2</td>\n",
       "    </tr>\n",
       "    <tr>\n",
       "      <th>4</th>\n",
       "      <td>4</td>\n",
       "      <td>4</td>\n",
       "      <td>Pakistan</td>\n",
       "      <td>Asia</td>\n",
       "      <td>65450704</td>\n",
       "      <td>324219</td>\n",
       "      <td>1130820</td>\n",
       "      <td>57879</td>\n",
       "    </tr>\n",
       "    <tr>\n",
       "      <th>...</th>\n",
       "      <td>...</td>\n",
       "      <td>...</td>\n",
       "      <td>...</td>\n",
       "      <td>...</td>\n",
       "      <td>...</td>\n",
       "      <td>...</td>\n",
       "      <td>...</td>\n",
       "      <td>...</td>\n",
       "    </tr>\n",
       "    <tr>\n",
       "      <th>97</th>\n",
       "      <td>97</td>\n",
       "      <td>97</td>\n",
       "      <td>Spain</td>\n",
       "      <td>Europe</td>\n",
       "      <td>394</td>\n",
       "      <td>8</td>\n",
       "      <td>9</td>\n",
       "      <td>43596.5</td>\n",
       "    </tr>\n",
       "    <tr>\n",
       "      <th>98</th>\n",
       "      <td>98</td>\n",
       "      <td>98</td>\n",
       "      <td>Lebanon</td>\n",
       "      <td>Asia</td>\n",
       "      <td>97</td>\n",
       "      <td>16</td>\n",
       "      <td>3</td>\n",
       "      <td>28386.4</td>\n",
       "    </tr>\n",
       "    <tr>\n",
       "      <th>99</th>\n",
       "      <td>100</td>\n",
       "      <td>100</td>\n",
       "      <td>Singapore</td>\n",
       "      <td>Asia</td>\n",
       "      <td>50</td>\n",
       "      <td>9</td>\n",
       "      <td>2</td>\n",
       "      <td>25</td>\n",
       "    </tr>\n",
       "    <tr>\n",
       "      <th>100</th>\n",
       "      <td>101</td>\n",
       "      <td>101</td>\n",
       "      <td>Samoa</td>\n",
       "      <td>Oceania</td>\n",
       "      <td>12</td>\n",
       "      <td>6</td>\n",
       "      <td>1</td>\n",
       "      <td>11949.8</td>\n",
       "    </tr>\n",
       "    <tr>\n",
       "      <th>101</th>\n",
       "      <td>102</td>\n",
       "      <td>102</td>\n",
       "      <td>Syria</td>\n",
       "      <td>Asia</td>\n",
       "      <td>1</td>\n",
       "      <td>0</td>\n",
       "      <td>0</td>\n",
       "      <td>83034.2</td>\n",
       "    </tr>\n",
       "  </tbody>\n",
       "</table>\n",
       "<p>102 rows × 8 columns</p>\n",
       "</div>"
      ],
      "text/plain": [
       "     index  Unnamed: 0    Country      Continent Production (Tons)  \\\n",
       "0        0           0     Brazil  South America         768678382   \n",
       "1        1           1      India           Asia         348448000   \n",
       "2        2           2      China           Asia         123059739   \n",
       "3        3           3   Thailand           Asia          87468496   \n",
       "4        4           4   Pakistan           Asia          65450704   \n",
       "..     ...         ...        ...            ...               ...   \n",
       "97      97          97      Spain         Europe               394   \n",
       "98      98          98    Lebanon           Asia                97   \n",
       "99     100         100  Singapore           Asia                50   \n",
       "100    101         101      Samoa        Oceania                12   \n",
       "101    102         102      Syria           Asia                 1   \n",
       "\n",
       "    Production per Person (Kg) Acreage (Hectare) Yield (Kg / Hectare)  \n",
       "0                     3668.531          10226205              75167.5  \n",
       "1                       260721           4950000              70393.5  \n",
       "2                        88287           1675215              73459.1  \n",
       "3                     1264.303           1336575              65442.2  \n",
       "4                       324219           1130820                57879  \n",
       "..                         ...               ...                  ...  \n",
       "97                           8                 9              43596.5  \n",
       "98                          16                 3              28386.4  \n",
       "99                           9                 2                   25  \n",
       "100                          6                 1              11949.8  \n",
       "101                          0                 0              83034.2  \n",
       "\n",
       "[102 rows x 8 columns]"
      ]
     },
     "execution_count": 9,
     "metadata": {},
     "output_type": "execute_result"
    }
   ],
   "source": [
    "df.dropna().reset_index()"
   ]
  },
  {
   "cell_type": "code",
   "execution_count": 10,
   "id": "1ae02e43-70bf-42df-902c-cc996ba2f8ea",
   "metadata": {},
   "outputs": [
    {
     "data": {
      "text/plain": [
       "Unnamed: 0                     int64\n",
       "Country                       object\n",
       "Continent                     object\n",
       "Production (Tons)             object\n",
       "Production per Person (Kg)    object\n",
       "Acreage (Hectare)             object\n",
       "Yield (Kg / Hectare)          object\n",
       "dtype: object"
      ]
     },
     "execution_count": 10,
     "metadata": {},
     "output_type": "execute_result"
    }
   ],
   "source": [
    "df.dtypes"
   ]
  },
  {
   "cell_type": "code",
   "execution_count": 11,
   "id": "f10282d3-1384-4629-8d89-4f0519eb9d8f",
   "metadata": {},
   "outputs": [],
   "source": [
    "df['Production (Tons)']=df['Production (Tons)'].astype(float)\n",
    "df['Production per Person (Kg)']=df['Production per Person (Kg)'].astype(float)\n",
    "df['Acreage (Hectare)']=df['Acreage (Hectare)'].astype(float)\n",
    "df['Yield (Kg / Hectare)']=df['Yield (Kg / Hectare)'].astype(float)\n",
    "\n",
    "\n"
   ]
  },
  {
   "cell_type": "code",
   "execution_count": 12,
   "id": "28f02143-d04a-47e8-a14b-b76c7c6f7821",
   "metadata": {},
   "outputs": [
    {
     "data": {
      "text/plain": [
       "Unnamed: 0                      int64\n",
       "Country                        object\n",
       "Continent                      object\n",
       "Production (Tons)             float64\n",
       "Production per Person (Kg)    float64\n",
       "Acreage (Hectare)             float64\n",
       "Yield (Kg / Hectare)          float64\n",
       "dtype: object"
      ]
     },
     "execution_count": 12,
     "metadata": {},
     "output_type": "execute_result"
    }
   ],
   "source": [
    "df.dtypes"
   ]
  },
  {
   "cell_type": "code",
   "execution_count": 13,
   "id": "8c011e66-a349-4818-b550-390613aeb692",
   "metadata": {},
   "outputs": [
    {
     "data": {
      "text/plain": [
       "Unnamed: 0                    103\n",
       "Country                       103\n",
       "Continent                       6\n",
       "Production (Tons)             103\n",
       "Production per Person (Kg)    102\n",
       "Acreage (Hectare)             101\n",
       "Yield (Kg / Hectare)          102\n",
       "dtype: int64"
      ]
     },
     "execution_count": 13,
     "metadata": {},
     "output_type": "execute_result"
    }
   ],
   "source": [
    "df.nunique()"
   ]
  },
  {
   "cell_type": "markdown",
   "id": "95e483fb-65c7-4e7f-b0b5-773f1c1c6a74",
   "metadata": {},
   "source": [
    "### Analysis for continent"
   ]
  },
  {
   "cell_type": "code",
   "execution_count": 14,
   "id": "6451b92f-4ca0-4938-b7d4-2da0283d0f9b",
   "metadata": {},
   "outputs": [],
   "source": [
    "df_continent=df.groupby(\"Continent\").sum()"
   ]
  },
  {
   "cell_type": "code",
   "execution_count": 20,
   "id": "d596cb5e-b635-407c-9d32-a1b02e8d01a0",
   "metadata": {},
   "outputs": [],
   "source": [
    "df_continent.drop([\"Country\"],axis=1,inplace=True)"
   ]
  },
  {
   "cell_type": "code",
   "execution_count": 21,
   "id": "5fe46c4b-dc69-43d9-8cfb-4879b2619238",
   "metadata": {},
   "outputs": [
    {
     "data": {
      "text/html": [
       "<div>\n",
       "<style scoped>\n",
       "    .dataframe tbody tr th:only-of-type {\n",
       "        vertical-align: middle;\n",
       "    }\n",
       "\n",
       "    .dataframe tbody tr th {\n",
       "        vertical-align: top;\n",
       "    }\n",
       "\n",
       "    .dataframe thead th {\n",
       "        text-align: right;\n",
       "    }\n",
       "</style>\n",
       "<table border=\"1\" class=\"dataframe\">\n",
       "  <thead>\n",
       "    <tr style=\"text-align: right;\">\n",
       "      <th></th>\n",
       "      <th>Unnamed: 0</th>\n",
       "      <th>Production (Tons)</th>\n",
       "      <th>Production per Person (Kg)</th>\n",
       "      <th>Acreage (Hectare)</th>\n",
       "      <th>Yield (Kg / Hectare)</th>\n",
       "    </tr>\n",
       "    <tr>\n",
       "      <th>Continent</th>\n",
       "      <th></th>\n",
       "      <th></th>\n",
       "      <th></th>\n",
       "      <th></th>\n",
       "      <th></th>\n",
       "    </tr>\n",
       "  </thead>\n",
       "  <tbody>\n",
       "    <tr>\n",
       "      <th>Africa</th>\n",
       "      <td>2160</td>\n",
       "      <td>89681525.0</td>\n",
       "      <td>2332687.293</td>\n",
       "      <td>1439089.0</td>\n",
       "      <td>2142107.5</td>\n",
       "    </tr>\n",
       "    <tr>\n",
       "      <th>Asia</th>\n",
       "      <td>1253</td>\n",
       "      <td>721930425.0</td>\n",
       "      <td>1857769.303</td>\n",
       "      <td>10608319.0</td>\n",
       "      <td>1171871.4</td>\n",
       "    </tr>\n",
       "    <tr>\n",
       "      <th>Europe</th>\n",
       "      <td>189</td>\n",
       "      <td>5823.0</td>\n",
       "      <td>536.000</td>\n",
       "      <td>71.0</td>\n",
       "      <td>131870.9</td>\n",
       "    </tr>\n",
       "    <tr>\n",
       "      <th>North America</th>\n",
       "      <td>1101</td>\n",
       "      <td>173995947.0</td>\n",
       "      <td>3796081.508</td>\n",
       "      <td>1581983.0</td>\n",
       "      <td>1082602.4</td>\n",
       "    </tr>\n",
       "    <tr>\n",
       "      <th>Oceania</th>\n",
       "      <td>227</td>\n",
       "      <td>36177574.0</td>\n",
       "      <td>28593.605</td>\n",
       "      <td>490909.0</td>\n",
       "      <td>162419.1</td>\n",
       "    </tr>\n",
       "    <tr>\n",
       "      <th>South America</th>\n",
       "      <td>323</td>\n",
       "      <td>865588126.0</td>\n",
       "      <td>3505531.738</td>\n",
       "      <td>11369236.0</td>\n",
       "      <td>677192.7</td>\n",
       "    </tr>\n",
       "  </tbody>\n",
       "</table>\n",
       "</div>"
      ],
      "text/plain": [
       "               Unnamed: 0  Production (Tons)  Production per Person (Kg)  \\\n",
       "Continent                                                                  \n",
       "Africa               2160         89681525.0                 2332687.293   \n",
       "Asia                 1253        721930425.0                 1857769.303   \n",
       "Europe                189             5823.0                     536.000   \n",
       "North America        1101        173995947.0                 3796081.508   \n",
       "Oceania               227         36177574.0                   28593.605   \n",
       "South America         323        865588126.0                 3505531.738   \n",
       "\n",
       "               Acreage (Hectare)  Yield (Kg / Hectare)  \n",
       "Continent                                               \n",
       "Africa                 1439089.0             2142107.5  \n",
       "Asia                  10608319.0             1171871.4  \n",
       "Europe                      71.0              131870.9  \n",
       "North America          1581983.0             1082602.4  \n",
       "Oceania                 490909.0              162419.1  \n",
       "South America         11369236.0              677192.7  "
      ]
     },
     "execution_count": 21,
     "metadata": {},
     "output_type": "execute_result"
    }
   ],
   "source": [
    "df_continent"
   ]
  },
  {
   "cell_type": "markdown",
   "id": "f665d766-da9a-4f22-90e3-686c97af4150",
   "metadata": {},
   "source": [
    "## which continent produces maximum sugarcane?"
   ]
  },
  {
   "cell_type": "code",
   "execution_count": 22,
   "id": "35d4dc72-dc46-45da-a9b2-b7ee59c2748e",
   "metadata": {},
   "outputs": [
    {
     "data": {
      "text/plain": [
       "<Axes: xlabel='Continent'>"
      ]
     },
     "execution_count": 22,
     "metadata": {},
     "output_type": "execute_result"
    },
    {
     "data": {
      "image/png": "[encoded data removed]",
      "text/plain": [
       "<Figure size 640x480 with 1 Axes>"
      ]
     },
     "metadata": {},
     "output_type": "display_data"
    }
   ],
   "source": [
    "df_continent[\"Production (Tons)\"].sort_values(ascending=False).plot(kind=\"bar\")"
   ]
  },
  {
   "cell_type": "markdown",
   "id": "fc45510b-ec73-48f3-9676-a2d9e4381dd2",
   "metadata": {},
   "source": [
    "## Does no of countries in thee continent affects the production of the continent?"
   ]
  },
  {
   "cell_type": "code",
   "execution_count": 24,
   "id": "d28c66e4-300d-4559-9bbc-5535d58ea111",
   "metadata": {},
   "outputs": [],
   "source": [
    "df_continent[\"no_of_countries\"]=df.groupby(\"Continent\").count()[\"Country\"]"
   ]
  },
  {
   "cell_type": "code",
   "execution_count": 26,
   "id": "6a64de90-3d7d-4513-a883-98eac90caa18",
   "metadata": {},
   "outputs": [
    {
     "data": {
      "text/html": [
       "<div>\n",
       "<style scoped>\n",
       "    .dataframe tbody tr th:only-of-type {\n",
       "        vertical-align: middle;\n",
       "    }\n",
       "\n",
       "    .dataframe tbody tr th {\n",
       "        vertical-align: top;\n",
       "    }\n",
       "\n",
       "    .dataframe thead th {\n",
       "        text-align: right;\n",
       "    }\n",
       "</style>\n",
       "<table border=\"1\" class=\"dataframe\">\n",
       "  <thead>\n",
       "    <tr style=\"text-align: right;\">\n",
       "      <th></th>\n",
       "      <th>Unnamed: 0</th>\n",
       "      <th>Production (Tons)</th>\n",
       "      <th>Production per Person (Kg)</th>\n",
       "      <th>Acreage (Hectare)</th>\n",
       "      <th>Yield (Kg / Hectare)</th>\n",
       "      <th>no_of_countries</th>\n",
       "    </tr>\n",
       "    <tr>\n",
       "      <th>Continent</th>\n",
       "      <th></th>\n",
       "      <th></th>\n",
       "      <th></th>\n",
       "      <th></th>\n",
       "      <th></th>\n",
       "      <th></th>\n",
       "    </tr>\n",
       "  </thead>\n",
       "  <tbody>\n",
       "    <tr>\n",
       "      <th>Africa</th>\n",
       "      <td>2160</td>\n",
       "      <td>89681525.0</td>\n",
       "      <td>2332687.293</td>\n",
       "      <td>1439089.0</td>\n",
       "      <td>2142107.5</td>\n",
       "      <td>39</td>\n",
       "    </tr>\n",
       "    <tr>\n",
       "      <th>Asia</th>\n",
       "      <td>1253</td>\n",
       "      <td>721930425.0</td>\n",
       "      <td>1857769.303</td>\n",
       "      <td>10608319.0</td>\n",
       "      <td>1171871.4</td>\n",
       "      <td>25</td>\n",
       "    </tr>\n",
       "    <tr>\n",
       "      <th>Europe</th>\n",
       "      <td>189</td>\n",
       "      <td>5823.0</td>\n",
       "      <td>536.000</td>\n",
       "      <td>71.0</td>\n",
       "      <td>131870.9</td>\n",
       "      <td>2</td>\n",
       "    </tr>\n",
       "    <tr>\n",
       "      <th>North America</th>\n",
       "      <td>1101</td>\n",
       "      <td>173995947.0</td>\n",
       "      <td>3796081.508</td>\n",
       "      <td>1581983.0</td>\n",
       "      <td>1082602.4</td>\n",
       "      <td>22</td>\n",
       "    </tr>\n",
       "    <tr>\n",
       "      <th>Oceania</th>\n",
       "      <td>227</td>\n",
       "      <td>36177574.0</td>\n",
       "      <td>28593.605</td>\n",
       "      <td>490909.0</td>\n",
       "      <td>162419.1</td>\n",
       "      <td>4</td>\n",
       "    </tr>\n",
       "    <tr>\n",
       "      <th>South America</th>\n",
       "      <td>323</td>\n",
       "      <td>865588126.0</td>\n",
       "      <td>3505531.738</td>\n",
       "      <td>11369236.0</td>\n",
       "      <td>677192.7</td>\n",
       "      <td>11</td>\n",
       "    </tr>\n",
       "  </tbody>\n",
       "</table>\n",
       "</div>"
      ],
      "text/plain": [
       "               Unnamed: 0  Production (Tons)  Production per Person (Kg)  \\\n",
       "Continent                                                                  \n",
       "Africa               2160         89681525.0                 2332687.293   \n",
       "Asia                 1253        721930425.0                 1857769.303   \n",
       "Europe                189             5823.0                     536.000   \n",
       "North America        1101        173995947.0                 3796081.508   \n",
       "Oceania               227         36177574.0                   28593.605   \n",
       "South America         323        865588126.0                 3505531.738   \n",
       "\n",
       "               Acreage (Hectare)  Yield (Kg / Hectare)  no_of_countries  \n",
       "Continent                                                                \n",
       "Africa                 1439089.0             2142107.5               39  \n",
       "Asia                  10608319.0             1171871.4               25  \n",
       "Europe                      71.0              131870.9                2  \n",
       "North America          1581983.0             1082602.4               22  \n",
       "Oceania                 490909.0              162419.1                4  \n",
       "South America         11369236.0              677192.7               11  "
      ]
     },
     "execution_count": 26,
     "metadata": {},
     "output_type": "execute_result"
    }
   ],
   "source": [
    "df_continent"
   ]
  },
  {
   "cell_type": "code",
   "execution_count": 29,
   "id": "7641e853-eea5-4d11-a84c-abe70d3d0efa",
   "metadata": {},
   "outputs": [
    {
     "name": "stderr",
     "output_type": "stream",
     "text": [
      "C:\\Users\\Lenovo\\anaconda3\\Lib\\site-packages\\seaborn\\_oldcore.py:1119: FutureWarning: use_inf_as_na option is deprecated and will be removed in a future version. Convert inf values to NaN before operating instead.\n",
      "  with pd.option_context('mode.use_inf_as_na', True):\n",
      "C:\\Users\\Lenovo\\anaconda3\\Lib\\site-packages\\seaborn\\_oldcore.py:1119: FutureWarning: use_inf_as_na option is deprecated and will be removed in a future version. Convert inf values to NaN before operating instead.\n",
      "  with pd.option_context('mode.use_inf_as_na', True):\n"
     ]
    },
    {
     "data": {
      "image/png": "[encoded data removed]",
      "text/plain": [
       "<Figure size 640x480 with 1 Axes>"
      ]
     },
     "metadata": {},
     "output_type": "display_data"
    }
   ],
   "source": [
    "continent_names=df_continent.index.to_list()\n",
    "sns.lineplot(data=df_continent,x=\"no_of_countries\",y=\"Production (Tons)\")\n",
    "plt.xticks(df_continent[\"no_of_countries\"],continent_names, rotation=90)\n",
    "plt.show()"
   ]
  },
  {
   "cell_type": "markdown",
   "id": "d23e4edb-12a1-43a4-bc26-592884108d91",
   "metadata": {},
   "source": [
    "### correlation of continent"
   ]
  },
  {
   "cell_type": "code",
   "execution_count": 25,
   "id": "145f79c4-37fc-4095-97c2-95239736851b",
   "metadata": {},
   "outputs": [
    {
     "data": {
      "text/html": [
       "<div>\n",
       "<style scoped>\n",
       "    .dataframe tbody tr th:only-of-type {\n",
       "        vertical-align: middle;\n",
       "    }\n",
       "\n",
       "    .dataframe tbody tr th {\n",
       "        vertical-align: top;\n",
       "    }\n",
       "\n",
       "    .dataframe thead th {\n",
       "        text-align: right;\n",
       "    }\n",
       "</style>\n",
       "<table border=\"1\" class=\"dataframe\">\n",
       "  <thead>\n",
       "    <tr style=\"text-align: right;\">\n",
       "      <th></th>\n",
       "      <th>Unnamed: 0</th>\n",
       "      <th>Production (Tons)</th>\n",
       "      <th>Production per Person (Kg)</th>\n",
       "      <th>Acreage (Hectare)</th>\n",
       "      <th>Yield (Kg / Hectare)</th>\n",
       "      <th>no_of_countries</th>\n",
       "    </tr>\n",
       "  </thead>\n",
       "  <tbody>\n",
       "    <tr>\n",
       "      <th>Unnamed: 0</th>\n",
       "      <td>1.000000</td>\n",
       "      <td>-0.050645</td>\n",
       "      <td>0.405965</td>\n",
       "      <td>-0.019018</td>\n",
       "      <td>0.977126</td>\n",
       "      <td>0.986087</td>\n",
       "    </tr>\n",
       "    <tr>\n",
       "      <th>Production (Tons)</th>\n",
       "      <td>-0.050645</td>\n",
       "      <td>1.000000</td>\n",
       "      <td>0.522207</td>\n",
       "      <td>0.994897</td>\n",
       "      <td>0.091201</td>\n",
       "      <td>0.098495</td>\n",
       "    </tr>\n",
       "    <tr>\n",
       "      <th>Production per Person (Kg)</th>\n",
       "      <td>0.405965</td>\n",
       "      <td>0.522207</td>\n",
       "      <td>1.000000</td>\n",
       "      <td>0.463211</td>\n",
       "      <td>0.542971</td>\n",
       "      <td>0.531984</td>\n",
       "    </tr>\n",
       "    <tr>\n",
       "      <th>Acreage (Hectare)</th>\n",
       "      <td>-0.019018</td>\n",
       "      <td>0.994897</td>\n",
       "      <td>0.463211</td>\n",
       "      <td>1.000000</td>\n",
       "      <td>0.111166</td>\n",
       "      <td>0.122407</td>\n",
       "    </tr>\n",
       "    <tr>\n",
       "      <th>Yield (Kg / Hectare)</th>\n",
       "      <td>0.977126</td>\n",
       "      <td>0.091201</td>\n",
       "      <td>0.542971</td>\n",
       "      <td>0.111166</td>\n",
       "      <td>1.000000</td>\n",
       "      <td>0.991746</td>\n",
       "    </tr>\n",
       "    <tr>\n",
       "      <th>no_of_countries</th>\n",
       "      <td>0.986087</td>\n",
       "      <td>0.098495</td>\n",
       "      <td>0.531984</td>\n",
       "      <td>0.122407</td>\n",
       "      <td>0.991746</td>\n",
       "      <td>1.000000</td>\n",
       "    </tr>\n",
       "  </tbody>\n",
       "</table>\n",
       "</div>"
      ],
      "text/plain": [
       "                            Unnamed: 0  Production (Tons)  \\\n",
       "Unnamed: 0                    1.000000          -0.050645   \n",
       "Production (Tons)            -0.050645           1.000000   \n",
       "Production per Person (Kg)    0.405965           0.522207   \n",
       "Acreage (Hectare)            -0.019018           0.994897   \n",
       "Yield (Kg / Hectare)          0.977126           0.091201   \n",
       "no_of_countries               0.986087           0.098495   \n",
       "\n",
       "                            Production per Person (Kg)  Acreage (Hectare)  \\\n",
       "Unnamed: 0                                    0.405965          -0.019018   \n",
       "Production (Tons)                             0.522207           0.994897   \n",
       "Production per Person (Kg)                    1.000000           0.463211   \n",
       "Acreage (Hectare)                             0.463211           1.000000   \n",
       "Yield (Kg / Hectare)                          0.542971           0.111166   \n",
       "no_of_countries                               0.531984           0.122407   \n",
       "\n",
       "                            Yield (Kg / Hectare)  no_of_countries  \n",
       "Unnamed: 0                              0.977126         0.986087  \n",
       "Production (Tons)                       0.091201         0.098495  \n",
       "Production per Person (Kg)              0.542971         0.531984  \n",
       "Acreage (Hectare)                       0.111166         0.122407  \n",
       "Yield (Kg / Hectare)                    1.000000         0.991746  \n",
       "no_of_countries                         0.991746         1.000000  "
      ]
     },
     "execution_count": 25,
     "metadata": {},
     "output_type": "execute_result"
    }
   ],
   "source": [
    "df_continent.corr()"
   ]
  },
  {
   "cell_type": "markdown",
   "id": "f5f07855-99fe-45a7-8402-9e7359de2ea9",
   "metadata": {},
   "source": [
    "## production distribution of continents"
   ]
  },
  {
   "cell_type": "code",
   "execution_count": 31,
   "id": "a2b2ff7b-19f7-4da3-b5b7-dd58cde24b0c",
   "metadata": {},
   "outputs": [
    {
     "data": {
      "text/plain": [
       "<Axes: ylabel='Production (Tons)'>"
      ]
     },
     "execution_count": 31,
     "metadata": {},
     "output_type": "execute_result"
    },
    {
     "data": {
      "image/png": "[encoded data removed]",
      "text/plain": [
       "<Figure size 640x480 with 1 Axes>"
      ]
     },
     "metadata": {},
     "output_type": "display_data"
    }
   ],
   "source": [
    "df_continent[\"Production (Tons)\"].plot(kind=\"pie\",autopct=\"%2.f\")"
   ]
  },
  {
   "cell_type": "code",
   "execution_count": null,
   "id": "9d0978e7-9ec2-4ffe-8571-ed567f54af07",
   "metadata": {},
   "outputs": [],
   "source": []
  }
 ],
 "metadata": {
  "kernelspec": {
   "display_name": "Python 3 (ipykernel)",
   "language": "python",
   "name": "python3"
  },
  "language_info": {
   "codemirror_mode": {
    "name": "ipython",
    "version": 3
   },
   "file_extension": ".py",
   "mimetype": "text/x-python",
   "name": "python",
   "nbconvert_exporter": "python",
   "pygments_lexer": "ipython3",
   "version": "3.11.7"
  }
 },
 "nbformat": 4,
 "nbformat_minor": 5
}
